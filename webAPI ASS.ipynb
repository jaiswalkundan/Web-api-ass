{
 "cells": [
  {
   "cell_type": "code",
   "execution_count": null,
   "id": "d5b0f3fc-5f98-4ea1-8044-421847015b4e",
   "metadata": {},
   "outputs": [],
   "source": [
    "Q1. What is an API? Give an example, where an API is used in real life."
   ]
  },
  {
   "cell_type": "markdown",
   "id": "83063a8a-961e-459c-a017-34b2a9d22d43",
   "metadata": {},
   "source": [
    "Application programming interface is a set of rules that allows one software application to interact\n",
    "with another. it defines the methord and data formats that application can use to request and exchange information\n",
    "An example of API usage in real life is in weather apps often use APIs provided by meteorological services to fetch \n",
    "current weather condition,forecasts,and other related data."
   ]
  },
  {
   "cell_type": "code",
   "execution_count": null,
   "id": "d4e6cfdd-599b-4a26-a8b5-85cadf05280f",
   "metadata": {},
   "outputs": [],
   "source": [
    "Q2. Give advantages and disadvantages of using API."
   ]
  },
  {
   "cell_type": "markdown",
   "id": "13a88866-0178-4adb-ba2c-c0b6e8562cb9",
   "metadata": {},
   "source": [
    "Advantage:API facilitate seamless integration between different software system, enhancing interoperability\n",
    "and fostering innovation in software development.\n",
    "\n",
    "Disadvantage: Dependency on external APIs can pose a risk, as charges or discontinuation by the API provider may impact functionality and require adjustments in the dependent system."
   ]
  },
  {
   "cell_type": "code",
   "execution_count": null,
   "id": "0775f552-7b42-4f40-955a-42c9fb591f66",
   "metadata": {},
   "outputs": [],
   "source": [
    "Q3. What is a Web API? Differentiate between API and Web API."
   ]
  },
  {
   "cell_type": "markdown",
   "id": "b9e6e6f8-955a-413f-ba72-b99051f913df",
   "metadata": {},
   "source": [
    "A Web API specifically refers to APIs that are accessible over the web using standard protocols like HTTP.it enable \n",
    "different software systems often on different platforms, to communicate with each other over the internet.\n",
    "while an API is a general term for interface between software application a Web API specifically refers to APIs \n",
    "accessible via the web typically using HTTP protocols."
   ]
  },
  {
   "cell_type": "code",
   "execution_count": null,
   "id": "c2545e3a-d7cc-4e94-996a-3d356d459176",
   "metadata": {},
   "outputs": [],
   "source": [
    "Q4. Explain REST and SOAP Architecture. Mention shortcomings of SOAP."
   ]
  },
  {
   "cell_type": "code",
   "execution_count": null,
   "id": "8a30dc53-1ea8-400f-a710-2a6f172afb26",
   "metadata": {},
   "outputs": [],
   "source": [
    "REST Architecture:(Representational State Transfer)\n",
    "    REST is an architectural style that uses standard HTTP methods(GET,POST,PUT,DELETE) FOR \n",
    "    communication between clients and servers.\n",
    "    \n",
    "SOAP Architecture:(simple object Access)\n",
    "SOAP is a protocol that defines a set of rules for structuring messages in web services it often uses XML as the message \n",
    "format.\n",
    "\n",
    "SHORTCOMING OF SOAP:\n",
    "    1 complexity\n",
    "    2 performance\n",
    "    3 overhead\n",
    "    4 statefulness\n",
    "    5 limited browser support\n",
    "    \n",
    "    \n",
    "    \n",
    "    \n",
    "    "
   ]
  },
  {
   "cell_type": "code",
   "execution_count": null,
   "id": "f60dce3e-f06a-4ce5-a882-33235190f2a6",
   "metadata": {},
   "outputs": [],
   "source": [
    "Q5. Differentiate between REST and SOAP."
   ]
  },
  {
   "cell_type": "markdown",
   "id": "4c34d433-6635-468c-aa18-ea60cce0056a",
   "metadata": {},
   "source": [
    "REST is an architectural style that uses standard HTTP methords (GET,POST,PUT, DELETE) and operates\n",
    "over a stateless communication.\n",
    "SOAP is a protocol that relies on XML as its message format and can be transported over various protools including http"
   ]
  },
  {
   "cell_type": "code",
   "execution_count": null,
   "id": "52286fb2-7101-4bac-8ff9-289bd304eaa0",
   "metadata": {},
   "outputs": [],
   "source": []
  },
  {
   "cell_type": "code",
   "execution_count": null,
   "id": "f2d4c71b-92dd-452c-8128-690682dfe8b4",
   "metadata": {},
   "outputs": [],
   "source": []
  },
  {
   "cell_type": "code",
   "execution_count": null,
   "id": "c36950b0-7ea7-4e97-b580-7f849aebac82",
   "metadata": {},
   "outputs": [],
   "source": []
  },
  {
   "cell_type": "code",
   "execution_count": null,
   "id": "acbf1f3a-e29b-4d65-a2b4-9d9793f6df69",
   "metadata": {},
   "outputs": [],
   "source": []
  },
  {
   "cell_type": "code",
   "execution_count": null,
   "id": "0fcc56b6-d6a8-4a31-8d2c-f13a6f2442d8",
   "metadata": {},
   "outputs": [],
   "source": []
  }
 ],
 "metadata": {
  "kernelspec": {
   "display_name": "Python 3 (ipykernel)",
   "language": "python",
   "name": "python3"
  },
  "language_info": {
   "codemirror_mode": {
    "name": "ipython",
    "version": 3
   },
   "file_extension": ".py",
   "mimetype": "text/x-python",
   "name": "python",
   "nbconvert_exporter": "python",
   "pygments_lexer": "ipython3",
   "version": "3.10.8"
  }
 },
 "nbformat": 4,
 "nbformat_minor": 5
}
